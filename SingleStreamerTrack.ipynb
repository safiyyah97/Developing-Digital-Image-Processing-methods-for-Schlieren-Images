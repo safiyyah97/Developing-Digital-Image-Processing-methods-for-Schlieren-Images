{
 "cells": [
  {
   "cell_type": "markdown",
   "metadata": {},
   "source": [
    "<h2> #1 Cropping single streamer (all frames) <h2>"
   ]
  },
  {
   "cell_type": "code",
   "execution_count": 1,
   "metadata": {},
   "outputs": [
    {
     "name": "stdout",
     "output_type": "stream",
     "text": [
      "Finished\n"
     ]
    }
   ],
   "source": [
    "# For sobel streamers\n",
    "## Importing the libraries \n",
    "import cv2\n",
    "import fnmatch \n",
    "import os \n",
    "\n",
    "## Change parameters  \n",
    "dir_path = ' '\n",
    "root_path = ' '\n",
    "streamer_nr = '1'\n",
    "image_initial = 4762\n",
    "image_final = 4768\n",
    "\n",
    "reference_picture = '/Isobelx (' + str(image_final) + ').png'\n",
    "#'/Isobelx (2144).png'\n",
    "#'/Ibinary (' + str(image_final) + ').png'\n",
    "#2144).png' \n",
    "reference_folder = '/sobelx7'\n",
    "\n",
    "input_folder = 'sobelx7'\n",
    "folder_path = os.path.join(root_path, input_folder)\n",
    "\n",
    "# #image_final = image_initial + M\n",
    "# reference_picture = '/Ibinary (2144).png'\n",
    "# #'/Ibinary (' + str(image_final) + ').png'\n",
    "# #2144).png' \n",
    "# reference_folder = '/2nd Crop'\n",
    "\n",
    "# input_folder = '2nd Crop'\n",
    "# folder_path = os.path.join(dir_path, input_folder)\n",
    "\n",
    "# Path to the output folder to save cropped images\n",
    "output_folder = 'Streamer ' + str(streamer_nr)\n",
    "output_path = os.path.join(dir_path, output_folder)\n",
    "\n",
    "# Create the output folder if it doesn't exist\n",
    "if not os.path.exists(output_path):\n",
    "    os.makedirs(output_path)\n",
    "\n",
    "\n",
    "#input_folder = '/2nd Crop'\n",
    "input_image = '/Isobelx ('\n",
    "format_name = ').png'\n",
    "\n",
    "#output_folder = '/streamer_' + str(streamer_nr)                   # Cropped and divided image folder name \n",
    "#newpath1 = str(dir_path) + str(streamer_folder)  \n",
    "output_image = '/Istreamer_' + str(streamer_nr) +' ('                 # Name of cropped image\n",
    "\n",
    "#%% No need to change anything \n",
    "#M = len(fnmatch.filter(os.listdir(dir_path), '*).png*'))\n",
    "\n",
    "#ref_img = cv2.imread('E:/Belgium Work/Read Pixels/Raw/Ref.png')\n",
    "Iref = cv2.imread(str(root_path) + str(reference_folder) + str(reference_picture))\n",
    "Iref = cv2.rotate(Iref, cv2.ROTATE_90_CLOCKWISE)\n",
    "#Iref = cv2.imread(str(dir_path) + str(reference_folder) +str(reference_picture))\n",
    "\n",
    "cv2.namedWindow('Reference image',2)\n",
    "#cv2.resizeWindow('Reference image', 1024, 544)\n",
    "#cv2.resizeWindow('Reference image', 544, 1024)\n",
    "    #cv2.namedWindow(\"Image\",2)\n",
    "ROI = cv2.selectROI('Reference image', Iref, False, False)\n",
    "Iref_crop = Iref[int(ROI[1]):int(ROI[1]+ROI[3]), int(ROI[0]):int(ROI[0]+ROI[2])]\n",
    "#Iref_crop = Iref[0:int(ROI[1]+ROI[3]), int(ROI[0]):int(ROI[0]+ROI[2])]\n",
    "#cv2.imwrite('F:/Belgium Work/Read Pixels/15.05.22/sobelx_k7/2nd Crop/streamer1/Streamer01' +'/Streamer01_2.png', Iref_crop)\n",
    "cv2.waitKey()\n",
    "cv2.destroyAllWindows()\n",
    "\n",
    "\n",
    "\n",
    "for k in range (int(image_initial), int(image_final)+1):\n",
    "    picture = (str(root_path) + '/' + str(input_folder) + str(input_image) + str(k) + str(format_name))\n",
    "    I = cv2.imread(picture)\n",
    "    I = cv2.rotate(I, cv2.ROTATE_90_CLOCKWISE)\n",
    "    I = I[int(ROI[1]):int(ROI[1]+ROI[3]), int(ROI[0]):int(ROI[0]+ROI[2])]\n",
    "    #I = I[0:int(ROI[1]+ROI[3]), int(ROI[0]):int(ROI[0]+ROI[2])]\n",
    "    cv2.imwrite(str(output_path) +'/'+ str(output_image) + str(k) + str(format_name), I)\n",
    "\n",
    "print('Finished')"
   ]
  },
  {
   "cell_type": "markdown",
   "metadata": {},
   "source": [
    "<h2> #2 Binary Threshold 255 <h2>"
   ]
  },
  {
   "cell_type": "code",
   "execution_count": 2,
   "metadata": {},
   "outputs": [],
   "source": [
    "import cv2\n",
    "import os\n",
    "\n",
    "# List all files in the input directory\n",
    "\n",
    "dir_path = ' '\n",
    "input_folder = 'Streamer ' + str(streamer_nr)\n",
    "folder_path = os.path.join(dir_path, input_folder)\n",
    "\n",
    "# Path to the output folder to save cropped images\n",
    "output_folder = 'binary_255'\n",
    "output_folder_path = os.path.join(folder_path, output_folder)\n",
    "\n",
    "# Create the output folder if it doesn't exist\n",
    "if not os.path.exists(output_folder_path):\n",
    "    os.makedirs(output_folder_path)\n",
    "\n",
    "# Iterate through each image in the folder\n",
    "for filename in os.listdir(folder_path):\n",
    "    if filename.endswith('.png'):\n",
    "        image_path = os.path.join(folder_path, filename)\n",
    "        output_path = os.path.join(output_folder_path, filename)\n",
    "        # Read the input image in grayscale\n",
    "        image = cv2.imread(image_path)\n",
    "        image = cv2.cvtColor(image, cv2.COLOR_BGR2GRAY)\n",
    "        # Apply thresholding (adjust the threshold value according to your image characteristics)\n",
    "        _, thresholded_image = cv2.threshold(image, 20, 255, cv2.THRESH_BINARY)\n",
    "\n",
    "        # Save the thresholded image\n",
    "        cv2.imwrite(output_path, thresholded_image)"
   ]
  },
  {
   "cell_type": "markdown",
   "metadata": {},
   "source": [
    "<h2> #3 Feature Detection <h2>"
   ]
  },
  {
   "cell_type": "code",
   "execution_count": 9,
   "metadata": {},
   "outputs": [
    {
     "name": "stdout",
     "output_type": "stream",
     "text": [
      "Annotated images saved to the output folders.\n"
     ]
    }
   ],
   "source": [
    "from skimage.measure import regionprops\n",
    "import matplotlib.patches as mpatches\n",
    "from skimage.morphology import label\n",
    "import matplotlib.pyplot as plt\n",
    "from PIL import Image\n",
    "import numpy as np\n",
    "import os\n",
    "import cv2\n",
    "# Path to the folder containing the images\n",
    "\n",
    "dir_path = ' '\n",
    "\n",
    "input_folder = 'Streamer ' + str(streamer_nr) + '/binary_255'\n",
    "folder_path = os.path.join(dir_path, input_folder)\n",
    "\n",
    "# Path to the output folder to save cropped images\n",
    "output_folder = 'Streamer ' + str(streamer_nr) + '/' +'Feature Detection ' + str(streamer_nr)\n",
    "output_base_folder = os.path.join(dir_path, output_folder)\n",
    "\n",
    "tracked_regions = {}\n",
    "\n",
    "# Output folder to save annotated images for this x value\n",
    "\n",
    "# Create the output folder if it doesn't exist\n",
    "if not os.path.exists(output_base_folder):\n",
    "    os.makedirs(output_base_folder)\n",
    "\n",
    "# Iterate through each image in the folder\n",
    "for filename in os.listdir(folder_path):\n",
    "    if filename.endswith('.png'):\n",
    "        image_path = os.path.join(folder_path, filename)\n",
    "\n",
    "        # Load the image\n",
    "        image = Image.open(image_path)\n",
    "        #image = image.rotate(-90,expand=1)\n",
    "        image_array = np.array(image, dtype=np.float64)\n",
    "\n",
    "        # Create a figure to display plots\n",
    "        fig, axes = plt.subplots(1, figsize=(8, 4))\n",
    "\n",
    "        # Perform region labeling and display rectangles\n",
    "        label_image = label(image_array)\n",
    "\n",
    "        axes.imshow(image_array, cmap=plt.cm.gray)\n",
    "        axes.axis('off')\n",
    "        Regions = []\n",
    "        Combreg = []\n",
    "\n",
    "        for region in regionprops(label_image):\n",
    "            if region.area > 300: #200\n",
    "                Regions.append(region)  # Store rectangles\n",
    "                \n",
    "                # Create some variables to help us sort regions\n",
    "                existreg = False\n",
    "\n",
    "                # Loop over all of the combine regions and see if current region should be included\n",
    "                for i, reg in enumerate(Combreg):\n",
    "                    if region.centroid[0] - reg[4] < 10: #15\n",
    "                        existreg = True\n",
    "                        Combreg[i] = [min(region.bbox[0], reg[0]), \n",
    "                        min(region.bbox[1], reg[1]), \n",
    "                        max(region.bbox[2], reg[2]),\n",
    "                        max(region.bbox[3], reg[3]), \n",
    "                        np.mean([region.centroid[0], reg[4]]).astype(np.float64), \n",
    "                        np.mean([region.centroid[1], reg[5]]).astype(np.float64)]\n",
    "                        break\n",
    "                    \n",
    "                \n",
    "                if existreg == False:\n",
    "                    Combreg.append([region.bbox[0], region.bbox[1], region.bbox[2], region.bbox[3], \n",
    "                            region.centroid[0], region.centroid[1]])\n",
    "\n",
    "#𝑏𝑏𝑜𝑥=[𝑦𝑚𝑖𝑛,𝑥𝑚𝑖𝑛,𝑦𝑚𝑎𝑥,𝑥𝑚𝑎𝑥,𝑦𝑐𝑒𝑛𝑡𝑟𝑜𝑖𝑑,𝑥𝑐𝑒𝑛𝑡𝑟𝑜𝑖𝑑]\n",
    "        for i, creg in enumerate(Combreg):\n",
    "                # Draw rectangle around segmented lines.\n",
    "            minr, minc, maxr, maxc = creg[0], creg[1], creg[2], creg[3], \n",
    "            rect = mpatches.Rectangle((minc, minr),\n",
    "                                        maxc - minc,\n",
    "                                        maxr - minr,\n",
    "                                        fill=False,\n",
    "                                        edgecolor='red',\n",
    "                                        linewidth=2)\n",
    "            \n",
    "            # Add the rectangle to the plot\n",
    "            axes.add_patch(rect)\n",
    "\n",
    "        plt.tight_layout()\n",
    "\n",
    "        # Save the annotated image to the output folder\n",
    "        output_path = os.path.join(output_base_folder, f'{os.path.splitext(filename)[0]}.jpg')\n",
    "        plt.savefig(output_path)\n",
    "\n",
    "        # Close the figure to release memory\n",
    "        plt.close(fig)\n",
    "\n",
    "print('Annotated images saved to the output folders.')"
   ]
  },
  {
   "cell_type": "markdown",
   "metadata": {},
   "source": [
    "<h2> #4 Matching <h2>"
   ]
  },
  {
   "cell_type": "code",
   "execution_count": 10,
   "metadata": {},
   "outputs": [],
   "source": [
    "class TrackedRegion:\n",
    "    def __init__(self, region, imageName):\n",
    "        self.AllRegions = {imageName:region}\n",
    "        self.CurrentRegion = region\n",
    "\n",
    "    def addRegion(self, region, imageName):\n",
    "        self.AllRegions[imageName] = region\n",
    "        self.CurrentRegion = region"
   ]
  },
  {
   "cell_type": "code",
   "execution_count": 14,
   "metadata": {},
   "outputs": [
    {
     "name": "stdout",
     "output_type": "stream",
     "text": [
      "Annotated images saved to the output folders.\n"
     ]
    }
   ],
   "source": [
    "from skimage.measure import regionprops\n",
    "import matplotlib.patches as mpatches\n",
    "from skimage.morphology import label\n",
    "import matplotlib.pyplot as plt\n",
    "from PIL import Image\n",
    "import numpy as np\n",
    "import os\n",
    "\n",
    "dir_path = ' '\n",
    "\n",
    "input_folder = 'Streamer ' + str(streamer_nr) + '/binary_255'\n",
    "folder_path = os.path.join(dir_path, input_folder)\n",
    "\n",
    "# Path to the output folder to save cropped images\n",
    "output_folder = 'Streamer ' + str(streamer_nr) + '/' +'Matching ' + str(streamer_nr)\n",
    "output_base_folder = os.path.join(dir_path, output_folder)\n",
    "\n",
    "tracked_regions = {}\n",
    "\n",
    "# Create the output folder if it doesn't exist\n",
    "if not os.path.exists(output_base_folder):\n",
    "    os.makedirs(output_base_folder)\n",
    "\n",
    "# Iterate through each image in the folder\n",
    "for filename in os.listdir(folder_path):\n",
    "    if filename.endswith('.png'):\n",
    "        image_path = os.path.join(folder_path, filename)\n",
    "\n",
    "        # Load the image\n",
    "        image = Image.open(image_path)\n",
    "        #image = image.rotate(-90,expand=1)\n",
    "        image_array = np.array(image, dtype=np.float64)\n",
    "\n",
    "        # Create a figure to display plots\n",
    "        fig, axes = plt.subplots(1, figsize=(8, 4))\n",
    "\n",
    "        # Perform region labeling and display rectangles\n",
    "        label_image = label(image_array)\n",
    "        axes.imshow(image_array, cmap=plt.cm.gray)\n",
    "        axes.axis('off')\n",
    "        Regions = []\n",
    "        Combreg = []\n",
    "\n",
    "\n",
    "        for region in regionprops(label_image):\n",
    "            if region.area > 300:\n",
    "            #if region. > 150:\n",
    "                Regions.append(region)  # Store rect2angles\n",
    "                \n",
    "                # Create some variables to help us sort regions\n",
    "                existreg = False\n",
    "\n",
    "                # Loop over all of the combine regions and see if current region should be included\n",
    "                for i, reg in enumerate(Combreg):\n",
    "                    if region.centroid[0] - reg[4] < 10: #60\n",
    "                    #if (region.centroid[0] - reg[4] < 90) and (region.centroid[1] - reg[3] < 10): #60\n",
    "                        existreg = True\n",
    "                        Combreg[i] = [min(region.bbox[0], reg[0]), \n",
    "                        min(region.bbox[1], reg[1]), \n",
    "                        max(region.bbox[2], reg[2]),\n",
    "                        max(region.bbox[3], reg[3]), \n",
    "                        np.mean([region.centroid[0], reg[4]]).astype(np.float64), \n",
    "                        np.mean([region.centroid[1], reg[5]]).astype(np.float64)]\n",
    "                        break\n",
    "                \n",
    "                if existreg == False:\n",
    "                    Combreg.append([region.bbox[0], region.bbox[1], region.bbox[2], region.bbox[3], \n",
    "                            region.centroid[0], region.centroid[1]])\n",
    "\n",
    "        for i, creg in enumerate(Combreg):\n",
    "                # Draw rectangle around segmented lines.\n",
    "            minr, minc, maxr, maxc = creg[0], creg[1], creg[2], creg[3], \n",
    "            rect = mpatches.Rectangle((minc, minr),\n",
    "                                        maxc - minc,\n",
    "                                        maxr - minr,\n",
    "                                        fill=False,\n",
    "                                        edgecolor='red',\n",
    "                                        linewidth=2)\n",
    "            \n",
    "            # Add the rectangle to the plot\n",
    "            axes.add_patch(rect)\n",
    "\n",
    "            tracked = False\n",
    "\n",
    "            for key, tr in tracked_regions.items():\n",
    "                if filename in tr.AllRegions:\n",
    "                    break\n",
    "                if tr.CurrentRegion[4] - creg[4] < 10: #50\n",
    "                    tr.addRegion(creg, filename)\n",
    "                    tracked = True\n",
    "                    break\n",
    "    \n",
    "            if tracked == False:\n",
    "                newRegion = TrackedRegion(creg, filename)\n",
    "                tracked_regions[\"Channel \" + str(len(tracked_regions))] = newRegion\n",
    "\n",
    "\n",
    "\n",
    "        plt.tight_layout()\n",
    "\n",
    "        # Save the annotated image to the output folder\n",
    "        output_path = os.path.join(output_base_folder, f'{os.path.splitext(filename)[0]}.jpg')\n",
    "        plt.savefig(output_path)\n",
    "\n",
    "        # Close the figure to release memory\n",
    "        plt.close(fig)\n",
    "\n",
    "print('Annotated images saved to the output folders.')"
   ]
  },
  {
   "cell_type": "markdown",
   "metadata": {},
   "source": [
    "<h2> #5 Tracking <h2>"
   ]
  },
  {
   "cell_type": "code",
   "execution_count": 12,
   "metadata": {},
   "outputs": [
    {
     "name": "stdout",
     "output_type": "stream",
     "text": [
      "Channel 0 7\n",
      "Channel 1 1\n",
      "Channel 2 1\n",
      "Channel 3 1\n",
      "Channel 4 1\n",
      "Channel 5 1\n",
      "Channel 6 1\n",
      "Channel 7 1\n",
      "Channel 8 1\n"
     ]
    }
   ],
   "source": [
    "for key, tr in tracked_regions.items():\n",
    "    print(key, len(tr.AllRegions))"
   ]
  },
  {
   "cell_type": "code",
   "execution_count": 15,
   "metadata": {},
   "outputs": [
    {
     "name": "stdout",
     "output_type": "stream",
     "text": [
      "Istreamer_07.5 (4762).png, Length: 57, Height: 14\n",
      "Istreamer_07.5 (4763).png, Length: 111, Height: 20\n",
      "Istreamer_07.5 (4764).png, Length: 166, Height: 18\n",
      "Istreamer_07.5 (4765).png, Length: 261, Height: 30\n",
      "Istreamer_07.5 (4766).png, Length: 390, Height: 22\n",
      "Istreamer_07.5 (4767).png, Length: 546, Height: 25\n",
      "Istreamer_07.5 (4768).png, Length: 723, Height: 29\n"
     ]
    },
    {
     "data": {
      "image/png": "[encoded data removed]",
      "text/plain": [
       "<Figure size 800x400 with 1 Axes>"
      ]
     },
     "metadata": {},
     "output_type": "display_data"
    },
    {
     "data": {
      "image/png": "[encoded data removed]",
      "text/plain": [
       "<Figure size 800x400 with 1 Axes>"
      ]
     },
     "metadata": {},
     "output_type": "display_data"
    },
    {
     "data": {
      "image/png": "[encoded data removed]",
      "text/plain": [
       "<Figure size 800x400 with 1 Axes>"
      ]
     },
     "metadata": {},
     "output_type": "display_data"
    },
    {
     "data": {
      "image/png": "[encoded data removed]",
      "text/plain": [
       "<Figure size 800x400 with 1 Axes>"
      ]
     },
     "metadata": {},
     "output_type": "display_data"
    },
    {
     "data": {
      "image/png": "[encoded data removed]",
      "text/plain": [
       "<Figure size 800x400 with 1 Axes>"
      ]
     },
     "metadata": {},
     "output_type": "display_data"
    },
    {
     "data": {
      "image/png": "[encoded data removed]",
      "text/plain": [
       "<Figure size 800x400 with 1 Axes>"
      ]
     },
     "metadata": {},
     "output_type": "display_data"
    },
    {
     "data": {
      "image/png": "[encoded data removed]",
      "text/plain": [
       "<Figure size 800x400 with 1 Axes>"
      ]
     },
     "metadata": {},
     "output_type": "display_data"
    }
   ],
   "source": [
    "ch = 'Channel 0'\n",
    "\n",
    "\n",
    "dir_path = ' '\n",
    "\n",
    "input_folder = 'Streamer ' + str(streamer_nr) + '/binary_255'\n",
    "folder_path = os.path.join(dir_path, input_folder)\n",
    "\n",
    "# Path to the output folder to save cropped images\n",
    "output_folder = 'Streamer ' + str(streamer_nr) + '/' + str(ch)\n",
    "\n",
    "output_base_folder = os.path.join(dir_path, output_folder)\n",
    "\n",
    "if not os.path.exists(output_base_folder):\n",
    "    os.makedirs(output_base_folder)\n",
    "\n",
    "Tracked = tracked_regions[ch]\n",
    "\n",
    "for filename in os.listdir(folder_path):\n",
    "    if filename.endswith('.png'):\n",
    "        image_path = os.path.join(folder_path, filename)\n",
    "\n",
    "        # Load the image\n",
    "        image = Image.open(image_path)\n",
    "        image_array = np.array(image, dtype=np.float64)\n",
    "\n",
    "        # Create a figure to display plots\n",
    "        fig, axes = plt.subplots(1, figsize=(8, 4))\n",
    "\n",
    "        # Perform region labeling and display rectangles\n",
    "        label_image = label(image_array)\n",
    "        axes.imshow(image_array, cmap=plt.cm.gray)\n",
    "        axes.axis('off')\n",
    "\n",
    "        if filename in Tracked.AllRegions:\n",
    "          minr, minc, maxr, maxc = Tracked.AllRegions[filename][0], Tracked.AllRegions[filename][1], Tracked.AllRegions[filename][2], Tracked.AllRegions[filename][3],\n",
    "          \n",
    "          # Calculate length and height\n",
    "          length = maxc - minc\n",
    "          height = maxr - minr\n",
    "\n",
    "          print(f\"{filename}, Length: {length}, Height: {height}\")\n",
    "          \n",
    "          rect = mpatches.Rectangle((minc, minr),\n",
    "                                    maxc - minc,\n",
    "                                    maxr - minr,\n",
    "                                    fill=False,\n",
    "                                    edgecolor='red',\n",
    "                                    linewidth=2)\n",
    "          # Add the rectangle to the plot\n",
    "          axes.add_patch(rect)\n",
    "\n",
    "        plt.tight_layout()\n",
    "\n",
    "        # Save the annotated image to the output folder\n",
    "        output_path = os.path.join(output_base_folder, f'{os.path.splitext(filename)[0]}.jpg')\n",
    "        plt.savefig(output_path)"
   ]
  }
 ],
 "metadata": {
  "kernelspec": {
   "display_name": "base",
   "language": "python",
   "name": "python3"
  },
  "language_info": {
   "codemirror_mode": {
    "name": "ipython",
    "version": 3
   },
   "file_extension": ".py",
   "mimetype": "text/x-python",
   "name": "python",
   "nbconvert_exporter": "python",
   "pygments_lexer": "ipython3",
   "version": "3.9.13"
  }
 },
 "nbformat": 4,
 "nbformat_minor": 2
}
